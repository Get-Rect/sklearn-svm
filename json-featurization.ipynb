{
 "cells": [
  {
   "cell_type": "code",
   "execution_count": 9,
   "metadata": {},
   "outputs": [
    {
     "name": "stdout",
     "output_type": "stream",
     "text": [
      "[1]\n"
     ]
    }
   ],
   "source": [
    "from sklearn.svm import OneClassSVM\n",
    "from sklearn.feature_extraction import DictVectorizer\n",
    "import json\n",
    "\n",
    "# Load the JSON objects into a list of dictionaries\n",
    "with open('C:/Users/John/Downloads/MOCK_DATA.json') as f:\n",
    "  data = f.read()\n",
    "json_str = data\n",
    "json_objs = json.loads(json_str)\n",
    "\n",
    "# Convert the list of dictionaries to a sparse matrix\n",
    "vec = DictVectorizer()\n",
    "X_train = vec.fit_transform(json_objs)\n",
    "\n",
    "# Train the OC-SVM model\n",
    "ocsvm = OneClassSVM(kernel='rbf', nu=0.1)\n",
    "ocsvm.fit(X_train)\n",
    "\n",
    "# Load a json string for our test\n",
    "test = '{\"first_name\":\"Humberto\",\"last_name\":\"Whistlecraft\",\"address_line_1\":\"85 Waywood Point\",\"address_line_2\":\"Suite 96\",\"city\":\"Norman\",\"state\":\"Oklahoma\",\"postal_code\":\"73071\",\"phone_number\":\"405-942-1126\",\"email\":\"hwhistlecraft0@chicagotribune.com\"}'\n",
    "test_1 = '{\"goofy_goober\" : \"true\" }'\n",
    "test_obj = json.loads(test_1)\n",
    "\n",
    "# Convert the JSON object to a dictionary\n",
    "test_data = {}\n",
    "for key in test_obj:\n",
    "    test_data[key] = [test_obj[key]]\n",
    "\n",
    "# Convert the dictionary to a sparse matrix\n",
    "X_test = vec.transform(test_data)\n",
    "\n",
    "# Use the sparse matrix to make predictions\n",
    "y_pred = ocsvm.predict(X_test)\n",
    "\n",
    "# Print the prediction\n",
    "print(y_pred)"
   ]
  }
 ],
 "metadata": {
  "kernelspec": {
   "display_name": "Python 3",
   "language": "python",
   "name": "python3"
  },
  "language_info": {
   "codemirror_mode": {
    "name": "ipython",
    "version": 3
   },
   "file_extension": ".py",
   "mimetype": "text/x-python",
   "name": "python",
   "nbconvert_exporter": "python",
   "pygments_lexer": "ipython3",
   "version": "3.12.0"
  }
 },
 "nbformat": 4,
 "nbformat_minor": 2
}
