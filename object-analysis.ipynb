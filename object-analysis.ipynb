{
 "cells": [
  {
   "cell_type": "code",
   "execution_count": 21,
   "metadata": {},
   "outputs": [
    {
     "ename": "TypeError",
     "evalue": "__init__() got an unexpected keyword argument 'categorical_features'",
     "output_type": "error",
     "traceback": [
      "\u001b[1;31m---------------------------------------------------------------------------\u001b[0m",
      "\u001b[1;31mTypeError\u001b[0m                                 Traceback (most recent call last)",
      "\u001b[1;32mc:\\Users\\John\\source\\repos\\sklearn-svm\\object-analysis.ipynb Cell 1\u001b[0m line \u001b[0;36m3\n\u001b[0;32m     <a href='vscode-notebook-cell:/c%3A/Users/John/source/repos/sklearn-svm/object-analysis.ipynb#W0sZmlsZQ%3D%3D?line=35'>36</a>\u001b[0m values_encoded \u001b[39m=\u001b[39m label_encoder\u001b[39m.\u001b[39mfit_transform(values)\n\u001b[0;32m     <a href='vscode-notebook-cell:/c%3A/Users/John/source/repos/sklearn-svm/object-analysis.ipynb#W0sZmlsZQ%3D%3D?line=37'>38</a>\u001b[0m \u001b[39m# Create a one-hot encoder for keys and values\u001b[39;00m\n\u001b[1;32m---> <a href='vscode-notebook-cell:/c%3A/Users/John/source/repos/sklearn-svm/object-analysis.ipynb#W0sZmlsZQ%3D%3D?line=38'>39</a>\u001b[0m one_hot_encoder \u001b[39m=\u001b[39m OneHotEncoder(categorical_features \u001b[39m=\u001b[39;49m [\u001b[39m0\u001b[39;49m])\n\u001b[0;32m     <a href='vscode-notebook-cell:/c%3A/Users/John/source/repos/sklearn-svm/object-analysis.ipynb#W0sZmlsZQ%3D%3D?line=40'>41</a>\u001b[0m \u001b[39m# Stack the keys_encoded and values_encoded arrays vertically\u001b[39;00m\n\u001b[0;32m     <a href='vscode-notebook-cell:/c%3A/Users/John/source/repos/sklearn-svm/object-analysis.ipynb#W0sZmlsZQ%3D%3D?line=41'>42</a>\u001b[0m keys_values \u001b[39m=\u001b[39m np\u001b[39m.\u001b[39mvstack((keys_encoded, values_encoded))\n",
      "\u001b[1;31mTypeError\u001b[0m: __init__() got an unexpected keyword argument 'categorical_features'"
     ]
    }
   ],
   "source": [
    "# Import libraries\n",
    "import json\n",
    "import numpy as np\n",
    "import matplotlib.pyplot as plt\n",
    "from sklearn.preprocessing import LabelEncoder, OneHotEncoder\n",
    "from sklearn.ensemble import IsolationForest\n",
    "\n",
    "# Load the json collection as a list of dictionaries\n",
    "with open(\"C:/Users/John/Downloads/mock_orders.json\", \"r\") as f:\n",
    "    json_collection = json.load(f)\n",
    "\n",
    "# Extract the keys and values from each json object\n",
    "keys = []\n",
    "values = []\n",
    "for obj in json_collection:\n",
    "    keys.append(list(obj.keys()))\n",
    "    values.append(list(obj.values()))\n",
    "\n",
    "# Convert all values to strings\n",
    "for i in range(len(keys)):\n",
    "    for j in range(len(keys[i])):\n",
    "        keys[i][j] = str(keys[i][j])\n",
    "for i in range(len(values)):\n",
    "    for j in range(len(values[i])):\n",
    "        values[i][j] = str(values[i][j])\n",
    "\n",
    "# Create a label encoder for keys and values\n",
    "label_encoder = LabelEncoder()\n",
    "\n",
    "# Flatten the keys and values into one-dimensional arrays\n",
    "keys = np.ravel(keys)\n",
    "values = np.ravel(values)\n",
    "\n",
    "# Fit and transform the keys and values into integer labels\n",
    "keys_encoded = label_encoder.fit_transform(keys)\n",
    "values_encoded = label_encoder.fit_transform(values)\n",
    "\n",
    "# Create a one-hot encoder for keys and values\n",
    "one_hot_encoder = OneHotEncoder(handle_unknown=\"ignore\")\n",
    "\n",
    "# Stack the keys_encoded and values_encoded arrays vertically\n",
    "keys_values = np.vstack((keys_encoded, values_encoded))\n",
    "\n",
    "# Fit the one-hot encoder on the 2D array\n",
    "one_hot_encoder.fit(keys_values)\n",
    "\n",
    "# Transform the integer labels into binary features\n",
    "keys_encoded = keys_encoded.reshape(-1,1)\n",
    "keys_one_hot = one_hot_encoder.transform(keys_encoded)\n",
    "values_one_hot = one_hot_encoder.transform(values_encoded)\n",
    "\n",
    "# Concatenate the one-hot encoded keys and values as features\n",
    "features = np.concatenate((keys_one_hot, values_one_hot), axis=2)\n",
    "\n",
    "# Train an isolation forest model to detect outliers\n",
    "model = IsolationForest(random_state=0)\n",
    "model.fit(features)\n",
    "\n",
    "# Predict the anomaly scores for each json object\n",
    "scores = model.score_samples(features)\n",
    "\n",
    "# # Print the json objects with negative scores (anomalies)\n",
    "# for i, score in enumerate(scores):\n",
    "#     if score < 0:\n",
    "#         print(f\"Anomaly detected: {json_collection[i]}\")\n",
    "\n",
    "# Plot the scores on a graph\n",
    "x = np.linalg.norm(features, axis=1) # compute the norm of each feature vector\n",
    "plt.plot(x, scores, color='blue', label='Scores') # create a line plot of scores\n",
    "plt.scatter(x, scores, c=scores < 0, cmap='coolwarm', label='Anomalies') # create a scatter plot of anomalies with red color\n",
    "plt.xlabel('Feature Vector Value') # add x-axis label\n",
    "plt.ylabel('Score')"
   ]
  }
 ],
 "metadata": {
  "kernelspec": {
   "display_name": "Python 3",
   "language": "python",
   "name": "python3"
  },
  "language_info": {
   "codemirror_mode": {
    "name": "ipython",
    "version": 3
   },
   "file_extension": ".py",
   "mimetype": "text/x-python",
   "name": "python",
   "nbconvert_exporter": "python",
   "pygments_lexer": "ipython3",
   "version": "3.9.13"
  }
 },
 "nbformat": 4,
 "nbformat_minor": 2
}
