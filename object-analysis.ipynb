{
 "cells": [
  {
   "cell_type": "code",
   "execution_count": 18,
   "metadata": {},
   "outputs": [
    {
     "name": "stderr",
     "output_type": "stream",
     "text": [
      "c:\\Users\\John\\AppData\\Local\\Programs\\Python\\Python39\\lib\\site-packages\\sklearn\\preprocessing\\_encoders.py:975: FutureWarning: `sparse` was renamed to `sparse_output` in version 1.2 and will be removed in 1.4. `sparse_output` is ignored unless you leave `sparse` to its default value.\n",
      "  warnings.warn(\n",
      "c:\\Users\\John\\AppData\\Local\\Programs\\Python\\Python39\\lib\\site-packages\\sklearn\\preprocessing\\_encoders.py:975: FutureWarning: `sparse` was renamed to `sparse_output` in version 1.2 and will be removed in 1.4. `sparse_output` is ignored unless you leave `sparse` to its default value.\n",
      "  warnings.warn(\n",
      "c:\\Users\\John\\AppData\\Local\\Programs\\Python\\Python39\\lib\\site-packages\\sklearn\\preprocessing\\_encoders.py:975: FutureWarning: `sparse` was renamed to `sparse_output` in version 1.2 and will be removed in 1.4. `sparse_output` is ignored unless you leave `sparse` to its default value.\n",
      "  warnings.warn(\n"
     ]
    },
    {
     "data": {
      "image/png": "[encoded data removed]",
      "text/plain": [
       "<Figure size 640x480 with 1 Axes>"
      ]
     },
     "metadata": {},
     "output_type": "display_data"
    }
   ],
   "source": [
    "# Import libraries\n",
    "import json\n",
    "import numpy as np\n",
    "import matplotlib.pyplot as plt\n",
    "import pandas as pd\n",
    "from sklearn.preprocessing import LabelEncoder, OneHotEncoder\n",
    "from sklearn.ensemble import IsolationForest\n",
    "\n",
    "# Load the json collection as a list of dictionaries\n",
    "with open(\"C:/Users/John/Downloads/mock_orders.json\", \"r\") as f:\n",
    "    data = json.load(f)\n",
    "\n",
    "from sklearn.preprocessing import OneHotEncoder\n",
    "import numpy as np\n",
    "\n",
    "# Initialize lists to store features and categories\n",
    "features = []\n",
    "categories = []\n",
    "statuses = []\n",
    "dates = []\n",
    "\n",
    "# Iterate through the JSON data\n",
    "for item in data:\n",
    "    # Extract numerical features\n",
    "    feature1 = item[\"quantity\"]\n",
    "    feature2 = item[\"unit_price\"]\n",
    "    features.append([feature1, feature2])\n",
    "\n",
    "    # Extract and preprocess the categorical feature (category)\n",
    "    category = item[\"discount_code\"]\n",
    "    categories.append(category)\n",
    "\n",
    "    # Extract and preprocess the categorical feature (category)\n",
    "    order_status = item[\"order_status\"]\n",
    "    statuses.append(order_status)\n",
    "\n",
    "    # Extract and preprocess the categorical feature (category)\n",
    "    date = item[\"order_date\"]\n",
    "    dates.append(date)\n",
    "\n",
    "# Use one-hot encoding for the categorical variable (category)\n",
    "encoder = OneHotEncoder(sparse=False)\n",
    "categories_encoded = encoder.fit_transform(np.array(categories).reshape(-1, 1))\n",
    "statuses_encoded = encoder.fit_transform(np.array(statuses).reshape(-1, 1))\n",
    "dates_encoded = encoder.fit_transform(np.array(dates).reshape(-1, 1))\n",
    "\n",
    "# Combine numerical and encoded categorical features\n",
    "feature_vectors = np.hstack((np.array(features), categories_encoded, statuses_encoded, dates_encoded))\n",
    "\n",
    "from sklearn.ensemble import IsolationForest\n",
    "\n",
    "# Initialize the Isolation Forest model\n",
    "clf = IsolationForest(contamination=0.05)  # Adjust the contamination parameter\n",
    "\n",
    "# Fit the model to your data\n",
    "clf.fit(feature_vectors)\n",
    "\n",
    "# Predict anomalies (outliers)\n",
    "anomalies = clf.predict(feature_vectors)\n",
    "\n",
    "# Extract the x and y coordinates from your feature vectors\n",
    "x = feature_vectors[:, 0]  # Replace with the actual feature indices\n",
    "y = feature_vectors[:, 1]\n",
    "\n",
    "# Plot normal data points in blue\n",
    "plt.scatter(x[anomalies == 1], y[anomalies == 1], c='b', label='Normal Data')\n",
    "\n",
    "# Plot anomalies in red\n",
    "plt.scatter(x[anomalies == -1], y[anomalies == -1], c='r', label='Anomalies')\n",
    "plt.xlabel('Feature 1')\n",
    "plt.ylabel('Feature 2')\n",
    "plt.legend()\n",
    "plt.show()\n"
   ]
  }
 ],
 "metadata": {
  "kernelspec": {
   "display_name": "Python 3",
   "language": "python",
   "name": "python3"
  },
  "language_info": {
   "codemirror_mode": {
    "name": "ipython",
    "version": 3
   },
   "file_extension": ".py",
   "mimetype": "text/x-python",
   "name": "python",
   "nbconvert_exporter": "python",
   "pygments_lexer": "ipython3",
   "version": "3.9.13"
  }
 },
 "nbformat": 4,
 "nbformat_minor": 2
}
